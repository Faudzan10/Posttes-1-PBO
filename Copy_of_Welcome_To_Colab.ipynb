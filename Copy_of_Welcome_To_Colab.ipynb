{
  "cells": [
    {
      "cell_type": "markdown",
      "metadata": {
        "id": "view-in-github",
        "colab_type": "text"
      },
      "source": [
        "<a href=\"https://colab.research.google.com/github/Faudzan10/tes-aja/blob/main/Copy_of_Welcome_To_Colab.ipynb\" target=\"_parent\"><img src=\"https://colab.research.google.com/assets/colab-badge.svg\" alt=\"Open In Colab\"/></a>"
      ]
    },
    {
      "cell_type": "markdown",
      "source": [
        "#BUSINESS UNDERSTANDING"
      ],
      "metadata": {
        "id": "i3tyK1L64DAy"
      }
    },
    {
      "cell_type": "markdown",
      "source": [
        "##**BUSSINESS OBJECTIVE**"
      ],
      "metadata": {
        "id": "roEFvkMs9UYN"
      }
    },
    {
      "cell_type": "markdown",
      "source": [
        "Tujuan utama proyek ini adalah untuk memahami tren pasar dan preferensi pelanggan dalam industri laptop guna mendukung pengembangan produk yang lebih sesuai dengan kebutuhan pengguna. Analisis ini mencakup identifikasi pola harga, spesifikasi yang paling diminati, serta faktor yang mempengaruhi keputusan pembelian pelanggan. Dengan pemahaman ini, perusahaan dapat meningkatkan strategi pemasaran, mengoptimalkan stok produk, serta menawarkan rekomendasi laptop yang lebih tepat sasaran berdasarkan data pelanggan."
      ],
      "metadata": {
        "id": "Cv83j6UJ-rAA"
      }
    },
    {
      "cell_type": "markdown",
      "source": [
        "##**Assess Sitution**"
      ],
      "metadata": {
        "id": "CXI6-_RnW-AH"
      }
    },
    {
      "cell_type": "markdown",
      "source": [
        "Industri laptop terus berkembang dengan persaingan yang ketat dan perubahan teknologi yang cepat. Konsumen memiliki berbagai preferensi terkait merek, spesifikasi hardware, dan harga yang sesuai dengan kebutuhan mereka. Data menunjukkan bahwa faktor seperti performa prosesor, kapasitas RAM, jenis penyimpanan, dan kartu grafis memainkan peran penting dalam keputusan pembelian. Oleh karena itu, analisis segmentasi pelanggan menjadi krusial untuk memahami pola pembelian dan mengantisipasi tren pasar yang terus berubah."
      ],
      "metadata": {
        "id": "HoPjISnGXMO9"
      }
    },
    {
      "cell_type": "markdown",
      "source": [
        "##**Data Mining Goals**"
      ],
      "metadata": {
        "id": "1ekHAJp9XrYx"
      }
    },
    {
      "cell_type": "markdown",
      "source": [
        "Mengidentifikasi segmen pelanggan berdasarkan preferensi spesifikasi laptop seperti prosesor, RAM, penyimpanan, dan kartu grafis,Menganalisis hubungan antara harga dan spesifikasi laptop untuk menemukan pola yang mempengaruhi keputusan pembelian,Memprediksi tren pasar dengan memahami pergeseran preferensi pelanggan terhadap teknologi terbaru,Mengembangkan model rekomendasi laptop berdasarkan analisis data untuk meningkatkan pengalaman pelanggan dalam memilih produk."
      ],
      "metadata": {
        "id": "Xp-WyJVjXy9I"
      }
    },
    {
      "cell_type": "markdown",
      "source": [
        "##**Project Plan**"
      ],
      "metadata": {
        "id": "eRhKko-rYHJJ"
      }
    },
    {
      "cell_type": "markdown",
      "source": [
        "Pengumpulan Data: Menggunakan dataset laptop yang mencakup informasi spesifikasi, harga, dan ulasan pelanggan,Analisis Eksploratif: Mengidentifikasi pola dalam data, seperti distribusi harga, spesifikasi yang paling diminati, serta korelasi antara fitur dan rating,Segmentasi Pelanggan: Membagi pelanggan ke dalam kelompok berdasarkan preferensi dan kebutuhan mereka,Pembangunan Model Prediktif: Menggunakan algoritma machine learning untuk memprediksi tren harga dan spesifikasi yang akan diminati di masa depan,Evaluasi dan Implementasi: Mengukur efektivitas model serta menerapkan hasil analisis untuk meningkatkan strategi pemasaran dan rekomendasi produk"
      ],
      "metadata": {
        "id": "h91WOVAUYRlz"
      }
    }
  ],
  "metadata": {
    "colab": {
      "provenance": [],
      "include_colab_link": true
    },
    "kernelspec": {
      "display_name": "Python 3",
      "name": "python3"
    }
  },
  "nbformat": 4,
  "nbformat_minor": 0
}